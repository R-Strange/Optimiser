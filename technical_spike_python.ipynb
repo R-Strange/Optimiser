{
 "cells": [
  {
   "cell_type": "markdown",
   "metadata": {},
   "source": [
    "# Understanding Optimisers - Example Implementation\n",
    "\n",
    "Optimization plays a crucial role in decision-making processes across various industries and disciplines. Whether it's allocating resources efficiently, scheduling tasks, or selecting projects to maximize benefits under constraints, optimization techniques provide systematic and quantitative methods to arrive at the best possible solutions.\n",
    "\n",
    "In this notebook, we embark on a practical journey to understand how optimization can be applied to a real-world scenario using Python. Specifically, we will:\n",
    "\n",
    "- **Simulate a Business Automation Scenario:** We'll create a set of business-as-usual (BAU) process automation projects, each with associated benefits such as hours saved per month, costs like hours required to implement, and specific skill requirements.\n",
    "- **Utilize Advanced Data Structures:** We'll leverage Python's dataclasses to define clear and efficient data structures for our projects and team members, enhancing code readability and maintainability.\n",
    "- **Implement an Optimization Model with `PuLP`:** We'll formulate and solve an optimization problem using PuLP, a powerful yet user-friendly linear programming library in Python. The goal is to select the optimal set of projects and assign team members effectively, maximizing the total hours saved while respecting various constraints.\n",
    "\n",
    "## Objectives of the Notebook\n",
    "\n",
    "  - Provide a step-by-step guide on how to model and solve an optimization problem in Python, suitable for learners new to optimization or Python programming.\n",
    "  - Show how optimization techniques can be directly applied to manage resources and project selection in a business context.\n",
    "  - Emphasize good coding practices by using modern Python features like dataclasses, and include comprehensive explanations through markdown cells.\n",
    "\n",
    "## Scenario Overview\n",
    "\n",
    "Imagine you are managing a team responsible for automating repetitive processes within an organization. You have:\n",
    "\n",
    "- A list of potential automation projects, each requiring certain skills to implement and promising a specific amount of time saved per month once completed.\n",
    "- A team of members with varying skills, Python proficiency levels (Basic, Intermediate, Advanced), and limited availability (hours they can allocate until the end of the financial year).\n",
    "- Constraints such as only being able to run a maximum of two projects concurrently due to resource limitations.\n",
    "\n",
    "Our Optimiser must:\n",
    "\n",
    "- Select the best combination of projects to undertake that maximizes the total hours saved per month.\n",
    "- Assign team members to projects in a way that respects their skill sets, availability, and the project's skill requirements.\n",
    "\n",
    "## Key Concepts and Tools\n",
    "\n",
    "### Optimization with PuLP\n",
    "\n",
    "Our Optimiser is based on the commercial `Gurobi` engine - we're using `PuLP` as a FOSS stand-in for this code.\n",
    "\n",
    "`PuLP` is an open-source linear programming (LP) library in Python that allows you to:\n",
    "\n",
    "- Define decision variables, objective functions, and constraints in a mathematical optimization problem.\n",
    "- Use built-in solvers like `CBC` (Coin-or branch and cut) to find optimal solutions.\n",
    "\n",
    "By utilizing `PuLP`, we'll translate our business problem into a mathematical model, enabling us to compute the optimal project selection and team assignments programmatically.\n",
    "\n",
    "\n",
    "### Data Classes (dataclasses)\n",
    "\n",
    "Introduced in Python 3.7, dataclasses provide a decorator and functions for automatically adding special methods to user-defined classes. They simplify class creation by:\n",
    "\n",
    "- Automatically generating methods like `__init__()` and `__repr__()`.\n",
    "- Making the code cleaner and more focused on the actual data being stored.\n",
    "\n",
    "We'll use dataclasses to define our `Project` and `TeamMember` classes, ensuring our code is concise and easy to understand.\n",
    "\n",
    "### Constraints and Decision Variables\n",
    "\n",
    "In our optimization model, we'll consider several constraints:\n",
    "\n",
    "- Maximum Concurrent Projects: Limit the number of projects running at the same time.\n",
    "- Skill Requirements: Ensure team members assigned to projects have the necessary skills and Python proficiency levels.\n",
    "- Availability: Team members cannot be assigned to more hours than they have available.\n",
    "- Assignment Constraints: Team members can only be assigned to selected projects.\n",
    "\n",
    "Our decision variables will include:\n",
    "\n",
    "- Project Selection Variables: Binary variables indicating whether a project is selected.\n",
    "- Team Assignment Variables: Binary variables indicating whether a team member is assigned to a project.\n",
    "\n",
    "## Structure of the Notebook\n",
    "\n",
    "The notebook is organized into the following sections:\n",
    "\n",
    "- **Environment Setup:** Installing and importing necessary libraries.\n",
    "- **Data Definition:** Creating dataclasses for Project and TeamMember, and populating them with sample data.\n",
    "- **Problem Formulation:** Defining the optimization problem's objective function and constraints using PuLP.\n",
    "- **Model Implementation:** Translating the mathematical model into code.\n",
    " -**Solution and Interpretation:** Solving the optimization problem and interpreting the results.\n",
    "- **Conclusion:** Summarizing what we've learned and potential next steps.\n",
    "\n",
    "## Learning Outcomes\n",
    "\n",
    "By the end of this notebook, you should be able to:\n",
    "\n",
    "- Understand how to model an optimization problem in Python using PuLP.\n",
    "- Utilize dataclasses to create clean and efficient data structures.\n",
    "- Translate a real-world scenario into a mathematical optimization model.\n",
    "- Interpret the results of the optimization and understand their implications in a business context.\n",
    "\n",
    "## Prerequisites\n",
    "\n",
    "To fully benefit from this notebook, you should have:\n",
    "\n",
    "- Basic knowledge of Python programming.\n",
    "- Familiarity with concepts in linear programming and optimization (helpful but not required, see section below for a crash course).\n",
    "- An understanding of business resource allocation challenges.\n",
    "\n",
    "## Let's Get Started!\n",
    "\n",
    "In the following sections, we'll dive into the practical implementation, starting with setting up our environment and defining our data structures. Feel free to modify the sample data and experiment with different scenarios to deepen your understanding."
   ]
  },
  {
   "cell_type": "code",
   "execution_count": 1,
   "metadata": {},
   "outputs": [],
   "source": [
    "struct Project\n",
    "    bau_project::String\n",
    "    hours_to_complete::Int64\n",
    "    monthly_hours_saved::Float64\n",
    "    skills_needed::Array\n",
    "end\n",
    "\n",
    "struct TeamMember\n",
    "    name::String\n",
    "    skills::Array\n",
    "    max_hours_available::Int16\n",
    "end"
   ]
  },
  {
   "cell_type": "code",
   "execution_count": 2,
   "metadata": {},
   "outputs": [
    {
     "data": {
      "text/plain": [
       "Project(\"PULSE Report Generation\", 80, 10.0, [\"Intermediate Python\"])"
      ]
     },
     "metadata": {},
     "output_type": "display_data"
    }
   ],
   "source": [
    "sec_del = Project(\"Sec Del Reporting\", 240, 20, [\"APIs\", \"Advanced Python\", \"Excel\"])\n",
    "narm_kpis = Project(\"NARM KPI Reports\", 160, 5, [\"Basic Python\", \"Excel\", \"SQL\"])\n",
    "im_wos = Project(\"I&M Work Order Generation\", 160, 10, [\"APIs\", \"Intermediate Python\", \"Excel\", \"SQL\"])\n",
    "interventions = Project(\"Interventions Generation\", 40, 2, [\"APIs\", \"Intermediate Python\", \"Excel\"])\n",
    "pulse = Project(\"PULSE Report Generation\", 80, 10, [\"Intermediate Python\"])"
   ]
  },
  {
   "cell_type": "code",
   "execution_count": 3,
   "metadata": {},
   "outputs": [
    {
     "data": {
      "text/plain": [
       "TeamMember(\"e\", [\"SQL\", \"Advanced Python\", \"Intermediate Python\", \"Basic Python\", \"Excel\"], 160)"
      ]
     },
     "metadata": {},
     "output_type": "display_data"
    }
   ],
   "source": [
    "a = TeamMember(\"a\", [\"SQL\", \"Advanced Python\", \"Intermediate Python\", \"Basic Python\", \"APIs\", \"Excel\"], 75)\n",
    "b = TeamMember(\"b\", [\"SQL\", \"Intermediate Python\", \"Basic Python\", \"Excel\"], 140)\n",
    "c = TeamMember(\"c\", [\"SQL\", \"Excel\"], 210)\n",
    "d = TeamMember(\"d\", [\"Basic Python\", \"Excel\"], 70)\n",
    "e = TeamMember(\"e\", [\"SQL\", \"Advanced Python\", \"Intermediate Python\", \"Basic Python\", \"Excel\"], 160)"
   ]
  },
  {
   "cell_type": "code",
   "execution_count": 4,
   "metadata": {},
   "outputs": [
    {
     "data": {
      "text/plain": [
       "5-element Vector{TeamMember}:\n",
       " TeamMember(\"a\", [\"SQL\", \"Advanced Python\", \"Intermediate Python\", \"Basic Python\", \"APIs\", \"Excel\"], 75)\n",
       " TeamMember(\"b\", [\"SQL\", \"Intermediate Python\", \"Basic Python\", \"Excel\"], 140)\n",
       " TeamMember(\"c\", [\"SQL\", \"Excel\"], 210)\n",
       " TeamMember(\"d\", [\"Basic Python\", \"Excel\"], 70)\n",
       " TeamMember(\"e\", [\"SQL\", \"Advanced Python\", \"Intermediate Python\", \"Basic Python\", \"Excel\"], 160)"
      ]
     },
     "metadata": {},
     "output_type": "display_data"
    }
   ],
   "source": [
    "projects = [sec_del, narm_kpis, im_wos, interventions, pulse]\n",
    "team_members = [a, b, c, d, e]"
   ]
  },
  {
   "cell_type": "code",
   "execution_count": 6,
   "metadata": {},
   "outputs": [],
   "source": [
    "all_hours_to_complete = []\n",
    "for proj in projects\n",
    "    append!(all_hours_to_complete, proj.hours_to_complete)\n",
    "end\n",
    "\n",
    "skills_matrix = Matrix()\n",
    "\n",
    "for person in team_members\n",
    "    can_work_on_project = []\n",
    "    for proj in projects\n",
    "        for skill in person.skills\n",
    "            for skill_needed in proj.skills_needed\n",
    "                if skill in skill_neede\n"
   ]
  },
  {
   "cell_type": "code",
   "execution_count": null,
   "metadata": {},
   "outputs": [],
   "source": []
  }
 ],
 "metadata": {
  "kernelspec": {
   "display_name": "Julia 1.11.1",
   "language": "julia",
   "name": "julia-1.11"
  },
  "language_info": {
   "file_extension": ".jl",
   "mimetype": "application/julia",
   "name": "julia",
   "version": "1.11.1"
  }
 },
 "nbformat": 4,
 "nbformat_minor": 2
}
