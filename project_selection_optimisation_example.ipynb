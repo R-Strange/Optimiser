{
 "cells": [
  {
   "cell_type": "markdown",
   "metadata": {},
   "source": [
    "# Understanding Optimisers - Example Implementation\n",
    "\n",
    "Optimization plays a crucial role in decision-making processes across various industries and disciplines. Whether it's allocating resources efficiently, scheduling tasks, or selecting projects to maximize benefits under constraints, optimization techniques provide systematic and quantitative methods to arrive at the best possible solutions.\n",
    "\n",
    "In this notebook, we embark on a practical journey to understand how optimization can be applied to a real-world scenario using Python. Specifically, we will:\n",
    "\n",
    "- **Simulate a Business Automation Scenario:** We'll create a set of business-as-usual (BAU) process automation projects, each with associated benefits such as hours saved per month, costs like hours required to implement, and specific skill requirements.\n",
    "- **Utilize Advanced Data Structures:** We'll leverage Python's dataclasses to define clear and efficient data structures for our projects and team members, enhancing code readability and maintainability.\n",
    "- **Implement an Optimization Model with `PuLP`:** We'll formulate and solve an optimization problem using PuLP, a powerful yet user-friendly linear programming library in Python. The goal is to select the optimal set of projects and assign team members effectively, maximizing the total hours saved while respecting various constraints.\n",
    "\n",
    "## Objectives of the Notebook\n",
    "\n",
    "  - Provide a step-by-step guide on how to model and solve an optimization problem in Python, suitable for learners new to optimization or Python programming.\n",
    "  - Show how optimization techniques can be directly applied to manage resources and project selection in a business context.\n",
    "  - Emphasize good coding practices by using modern Python features like dataclasses, and include comprehensive explanations through markdown cells.\n",
    "\n",
    "## Scenario Overview\n",
    "\n",
    "Imagine you are managing a team responsible for automating repetitive processes within an organization. You have:\n",
    "\n",
    "- A list of potential automation projects, each requiring certain skills to implement and promising a specific amount of time saved per month once completed.\n",
    "- A team of members with varying skills, Python proficiency levels (Basic, Intermediate, Advanced), and limited availability (hours they can allocate until the end of the financial year).\n",
    "- Constraints such as only being able to run a maximum of two projects concurrently due to resource limitations.\n",
    "\n",
    "Our Optimiser must:\n",
    "\n",
    "- Select the best combination of projects to undertake that maximizes the total hours saved per month.\n",
    "- Assign team members to projects in a way that respects their skill sets, availability, and the project's skill requirements.\n",
    "\n",
    "## Key Concepts and Tools\n",
    "\n",
    "### Optimization with PuLP\n",
    "\n",
    "Our Optimiser is based on the commercial `Gurobi` engine - we're using `PuLP` as a FOSS stand-in for this code.\n",
    "\n",
    "`PuLP` is an open-source linear programming (LP) library in Python that allows you to:\n",
    "\n",
    "- Define decision variables, objective functions, and constraints in a mathematical optimization problem.\n",
    "- Use built-in solvers like `CBC` (Coin-or branch and cut) to find optimal solutions.\n",
    "\n",
    "By utilizing `PuLP`, we'll translate our business problem into a mathematical model, enabling us to compute the optimal project selection and team assignments programmatically.\n",
    "\n",
    "\n",
    "### Data Classes (dataclasses)\n",
    "\n",
    "Introduced in Python 3.7, dataclasses provide a decorator and functions for automatically adding special methods to user-defined classes. They simplify class creation by:\n",
    "\n",
    "- Automatically generating methods like `__init__()` and `__repr__()`.\n",
    "- Making the code cleaner and more focused on the actual data being stored.\n",
    "\n",
    "We'll use dataclasses to define our `Project` and `TeamMember` classes, ensuring our code is concise and easy to understand.\n",
    "\n",
    "### Constraints and Decision Variables\n",
    "\n",
    "In our optimization model, we'll consider several constraints:\n",
    "\n",
    "- Maximum Concurrent Projects: Limit the number of projects running at the same time.\n",
    "- Skill Requirements: Ensure team members assigned to projects have the necessary skills and Python proficiency levels.\n",
    "- Availability: Team members cannot be assigned to more hours than they have available.\n",
    "- Assignment Constraints: Team members can only be assigned to selected projects.\n",
    "\n",
    "Our decision variables will include:\n",
    "\n",
    "- Project Selection Variables: Binary variables indicating whether a project is selected.\n",
    "- Team Assignment Variables: Binary variables indicating whether a team member is assigned to a project.\n",
    "\n",
    "## Structure of the Notebook\n",
    "\n",
    "The notebook is organized into the following sections:\n",
    "\n",
    "- **Environment Setup:** Installing and importing necessary libraries.\n",
    "- **Data Definition:** Creating dataclasses for Project and TeamMember, and populating them with sample data.\n",
    "- **Problem Formulation:** Defining the optimization problem's objective function and constraints using PuLP.\n",
    "- **Model Implementation:** Translating the mathematical model into code.\n",
    " -**Solution and Interpretation:** Solving the optimization problem and interpreting the results.\n",
    "- **Conclusion:** Summarizing what we've learned and potential next steps.\n",
    "\n",
    "## Learning Outcomes\n",
    "\n",
    "By the end of this notebook, you should be able to:\n",
    "\n",
    "- Understand how to model an optimization problem in Python using PuLP.\n",
    "- Utilize dataclasses to create clean and efficient data structures.\n",
    "- Translate a real-world scenario into a mathematical optimization model.\n",
    "- Interpret the results of the optimization and understand their implications in a business context.\n",
    "\n",
    "## Prerequisites\n",
    "\n",
    "To fully benefit from this notebook, you should have:\n",
    "\n",
    "- Basic knowledge of Python programming.\n",
    "- Familiarity with concepts in linear programming and optimization (helpful but not required, see \"optimisation_maths_crash_course\" for a refresher).\n",
    "- An understanding of business resource allocation challenges.\n",
    "\n",
    "## Let's Get Started!\n",
    "\n",
    "In the following sections, we'll dive into the practical implementation, starting with setting up our environment and defining our data structures."
   ]
  },
  {
   "cell_type": "code",
   "execution_count": 37,
   "metadata": {},
   "outputs": [],
   "source": [
    "from pulp import LpProblem, LpVariable, LpMaximize, lpSum, LpStatus\n",
    "from dataclasses import dataclass\n",
    "from typing import List, get_type_hints\n",
    "import pandas as pd"
   ]
  },
  {
   "cell_type": "markdown",
   "metadata": {},
   "source": [
    "We'll create the data classes to hold our project and team member information. While Dataclasses can be a slightly round-about way of handling our data, it means that we have context associated with our information. And, if we scale up our project to hold many many more people and projects, we can easily still associate information with its metadata.\n",
    "\n",
    "note that I'm using the `__post_init__()` dunder method to do some data validation - although an alterantive solution is using a few tricks around the `dataclasses.field` object instead."
   ]
  },
  {
   "cell_type": "code",
   "execution_count": 38,
   "metadata": {},
   "outputs": [],
   "source": [
    "def get_level_of_python_descriptor(level_of_python: int):\n",
    "    \"\"\"\n",
    "    Returns a string descriptor for the given level of Python proficiency.\n",
    "\n",
    "    Parameters:\n",
    "    level_of_python (int): An integer representing the level of Python proficiency.\n",
    "                           Accepted values are:\n",
    "                           0 - No Python\n",
    "                           1 - Basic Python\n",
    "                           2 - Intermediate Python\n",
    "                           3 - Advanced Python\n",
    "\n",
    "    Returns:\n",
    "    str: A string describing the level of Python proficiency.\n",
    "\n",
    "    Raises:\n",
    "    ValueError: If the input value is not in the range 0-3.\n",
    "    \"\"\"\n",
    "    match level_of_python:\n",
    "        case 0:\n",
    "            return \"No Python\"\n",
    "        case 1:\n",
    "            return \"Basic Python\"\n",
    "        case 2:\n",
    "            return \"Intermediate Python\"\n",
    "        case 3:\n",
    "            return \"Advanced Python\"\n",
    "        case _:\n",
    "            raise ValueError(\"Only values of 0-3 accepted\")\n",
    "        \n",
    "def validate_annotations(tested_instance):\n",
    "    \"\"\"\n",
    "    Validates that the attributes of the given instance match their type annotations.\n",
    "    \n",
    "    get_type_hint is used to help handle the `List[str]` data\n",
    "\n",
    "    Args:\n",
    "        tested_instance: The instance whose attributes are to be validated.\n",
    "\n",
    "    Raises:\n",
    "        AssertionError: If any attribute does not match its type annotation.\n",
    "    \"\"\"\n",
    "    type_hints = get_type_hints(tested_instance)\n",
    "    for k, v in type_hints.items():\n",
    "        attr_value = getattr(tested_instance, k)\n",
    "        if v == List[str]:\n",
    "            assert isinstance(attr_value, list) and all(isinstance(i, str) for i in attr_value), (\n",
    "                f\"Expected {k} to be of type List[str], got {type(attr_value)} instead.\"\n",
    "            )\n",
    "        else:\n",
    "            assert isinstance(attr_value, v), f\"Expected {k} to be of type {v}, got {type(attr_value)} instead.\"\n",
    "\n",
    "\n",
    "@dataclass(frozen=True, slots=True)\n",
    "class Project:\n",
    "    \"\"\"\n",
    "    A class to represent a project with specific attributes and requirements.\n",
    "    Attributes:\n",
    "    ----------\n",
    "    name : str\n",
    "        The name of the project.\n",
    "    hours_saved_per_month : int\n",
    "        The number of hours saved per month by implementing the project.\n",
    "    hours_to_implement : int\n",
    "        The number of hours required to implement the project.\n",
    "    skills_required : List[str]\n",
    "        A list of skills required to implement the project. Valid skills are \"APIs\", \"Excel\", and \"SQL\".\n",
    "    python_level_required : int\n",
    "        The level of Python proficiency required for the project. \n",
    "        Valid levels are:\n",
    "        0 - No Python required\n",
    "        1 - Basic\n",
    "        2 - Intermediate\n",
    "        3 - Advanced\n",
    "    Methods:\n",
    "    -------\n",
    "    __post_init__():\n",
    "        Validates the annotations and checks the validity of the python_level_required and skills_required attributes.\n",
    "    __repr__():\n",
    "        Returns a string representation of the project, including its name, hours saved per month, hours to implement, \n",
    "        required skills, and the level of Python proficiency required.\n",
    "    \"\"\"\n",
    "    \n",
    "    name: str\n",
    "    hours_saved_per_month: int\n",
    "    hours_to_implement: int\n",
    "    skills_required: List[str]\n",
    "    python_level_required: int  # 1 for basic, 2 for intermediate, 3 for advanced\n",
    "    \n",
    "    def __post_init__(self):\n",
    "        \"\"\"\n",
    "        Post-initialization method to validate the annotations and ensure that the \n",
    "        attributes `python_level_required` and `skills_required` meet the specified criteria.\n",
    "        Raises:\n",
    "            AssertionError: If `python_level_required` is not in {0, 1, 2, 3}.\n",
    "            AssertionError: If `skills_required` contains elements not in {\"APIs\", \"Excel\", \"SQL\"}.\n",
    "        \"\"\"\n",
    "        validate_annotations(self)\n",
    "        \n",
    "        assert self.python_level_required in {0, 1, 2, 3}, \"Invalid Python level required\"\n",
    "        assert set(self.skills_required).issubset({\"APIs\", \"Excel\", \"SQL\"}), \"Invalid skills required\"\n",
    "        \n",
    "    def __repr__(self):\n",
    "        \"\"\"\n",
    "        Returns a string representation of the object, detailing the name, hours saved per month,\n",
    "        hours required to implement, required skills, and the level of Python skills required.\n",
    "\n",
    "        Returns:\n",
    "            str: A formatted string representation of the object.\n",
    "        \"\"\"\n",
    "        representation = f\"\"\"{self.name}: {self.hours_saved_per_month} hours per month to be saved against {self.hours_to_implement} hours to implement.\n",
    "        Requires {\", \".join(self.skills_required)} and {get_level_of_python_descriptor(self.python_level_required)} skills\"\"\"\n",
    "        return representation\n",
    "    \n",
    "@dataclass(frozen=True, slots=True)\n",
    "class TeamMember:\n",
    "    \"\"\"\n",
    "    A class to represent a team member with specific attributes and skills.\n",
    "    Attributes:\n",
    "    ----------\n",
    "    name : str\n",
    "        The name of the team member.\n",
    "    hours_available : int\n",
    "        The number of hours the team member is available for projects in the financial year.\n",
    "    skills : List[str]\n",
    "        A list of skills the team member possesses. Valid skills are \"APIs\", \"Excel\", and \"SQL\".\n",
    "    python_level : int\n",
    "        The proficiency level of the team member in Python. Valid levels are 0, 1, 2, and 3.\n",
    "    Methods:\n",
    "    -------\n",
    "    __post_init__():\n",
    "        Validates the annotations and ensures the python_level and skills are within the allowed values.\n",
    "    __repr__():\n",
    "        Returns a string representation of the team member's availability, skills, and Python proficiency level.\n",
    "    \"\"\"\n",
    "    name: str\n",
    "    hours_available: int\n",
    "    skills: List[str]\n",
    "    python_level: int\n",
    "    \n",
    "    \n",
    "    def __post_init__(self):\n",
    "        \"\"\"\n",
    "        Post-initialization method for validating the attributes of the instance.\n",
    "        This method performs the following validations:\n",
    "        - Ensures that the `python_level` attribute is one of the valid levels: 0, 1, 2, or 3.\n",
    "        - Ensures that the `skills` attribute is a subset of the allowed skills: {\"APIs\", \"Excel\", \"SQL\"}.\n",
    "        Raises:\n",
    "            AssertionError: If `python_level` is not in {0, 1, 2, 3}.\n",
    "            AssertionError: If `skills` contains any invalid skill.\n",
    "        \"\"\"\n",
    "        validate_annotations(self)\n",
    "        \n",
    "        assert self.python_level in {0, 1, 2, 3}, \"Invalid Python level\"\n",
    "        assert set(self.skills).issubset({\"APIs\", \"Excel\", \"SQL\"}), \"Invalid skills\"\n",
    "    \n",
    "    def __repr__(self):\n",
    "        \"\"\"\n",
    "        Return a string representation of the object.\n",
    "        The representation includes the name of the person, the number of hours \n",
    "        they have available for projects in the current financial year, their \n",
    "        skills, and their level of proficiency in Python.\n",
    "        Returns:\n",
    "            str: A formatted string describing the person's availability, skills, \n",
    "            and Python proficiency level.\n",
    "        \"\"\"\n",
    "        representation = f\"\"\"{self.name} has {self.hours_available} hours available this financial year for projects.\n",
    "            {self.name} has {\", \".join(self.skills)} skills, and abilities up to {get_level_of_python_descriptor(self.python_level)}\"\"\"\n",
    "        return representation"
   ]
  },
  {
   "cell_type": "code",
   "execution_count": 39,
   "metadata": {},
   "outputs": [],
   "source": [
    "# creating our projects\n",
    "projects = [\n",
    "    Project(\"Secondary Deliverables reporting\", 20, 160, [\"SQL\", \"Excel\"], 2),\n",
    "    Project(\"I&M Work Order generation\", 40, 200, [\"SQL\", \"Excel\", \"APIs\"], 1),\n",
    "    Project(\"ISS\", 5, 80, [\"SQL\"], 1),\n",
    "    Project(\"Network Interventions lists\", 5, 40, [\"SQL\"], 1),\n",
    "    Project(\"Pulse Report report generation\", 10, 80, [\"SQL\", \"APIs\"], 3),\n",
    "]\n",
    "# creating our team members\n",
    "\n",
    "team = [\n",
    "    TeamMember(\"Kermit the Frog\", 180, [\"SQL\", \"Excel\"], 2),\n",
    "    TeamMember(\"Sweetums\", 140, [\"Excel\"], 1),\n",
    "    TeamMember(\"Dr Bunsen Honeydew\", 160, [\"APIs\", \"SQL\", \"Excel\"], 3),\n",
    "    TeamMember(\"Fozzie the Bear\", 220, [\"SQL\", \"Excel\"], 2),\n",
    "    TeamMember(\"Pepe the King Prawn\", 120, [\"SQL\", \"Excel\"], 1),\n",
    "    TeamMember(\"Rowlf the Dog\", 140, [\"APIs\", \"SQL\", \"Excel\"], 3),\n",
    "]"
   ]
  },
  {
   "cell_type": "code",
   "execution_count": 40,
   "metadata": {},
   "outputs": [
    {
     "data": {
      "text/plain": [
       "[Secondary Deliverables reporting: 20 hours per month to be saved against 160 hours to implement.\n",
       "         Requires SQL, Excel and Intermediate Python skills,\n",
       " I&M Work Order generation: 40 hours per month to be saved against 200 hours to implement.\n",
       "         Requires SQL, Excel, APIs and Basic Python skills,\n",
       " ISS: 5 hours per month to be saved against 80 hours to implement.\n",
       "         Requires SQL and Basic Python skills,\n",
       " Network Interventions lists: 5 hours per month to be saved against 40 hours to implement.\n",
       "         Requires SQL and Basic Python skills,\n",
       " Pulse Report report generation: 10 hours per month to be saved against 80 hours to implement.\n",
       "         Requires SQL, APIs and Advanced Python skills]"
      ]
     },
     "execution_count": 40,
     "metadata": {},
     "output_type": "execute_result"
    }
   ],
   "source": [
    "projects"
   ]
  },
  {
   "cell_type": "code",
   "execution_count": 41,
   "metadata": {},
   "outputs": [
    {
     "data": {
      "text/plain": [
       "[Kermit the Frog has 180 hours available this financial year for projects.\n",
       "             Kermit the Frog has SQL, Excel skills, and abilities up to Intermediate Python,\n",
       " Sweetums has 140 hours available this financial year for projects.\n",
       "             Sweetums has Excel skills, and abilities up to Basic Python,\n",
       " Dr Bunsen Honeydew has 160 hours available this financial year for projects.\n",
       "             Dr Bunsen Honeydew has APIs, SQL, Excel skills, and abilities up to Advanced Python,\n",
       " Fozzie the Bear has 220 hours available this financial year for projects.\n",
       "             Fozzie the Bear has SQL, Excel skills, and abilities up to Intermediate Python,\n",
       " Pepe the King Prawn has 120 hours available this financial year for projects.\n",
       "             Pepe the King Prawn has SQL, Excel skills, and abilities up to Basic Python,\n",
       " Rowlf the Dog has 140 hours available this financial year for projects.\n",
       "             Rowlf the Dog has APIs, SQL, Excel skills, and abilities up to Advanced Python]"
      ]
     },
     "execution_count": 41,
     "metadata": {},
     "output_type": "execute_result"
    }
   ],
   "source": [
    "team"
   ]
  },
  {
   "cell_type": "markdown",
   "metadata": {},
   "source": [
    "Each of our types of class are working wonderfully, and have helpful representations. Now we can get started with the optimiser.\n",
    "\n",
    "## Formulating the optimiser\n",
    "\n",
    "Now that we have our data ready to go, we need to get out optimiser set up.\n",
    "\n",
    "These are our general parameters:\n",
    "- **Goal:** maximise the total hours saved per month by selecting the best combination of projects, and assigning the approparite team members to them.\n",
    "- **Constraints:**\n",
    "  - A maximum of **two** projects can run simultaneously,\n",
    "  - Team members assigned to a project must have the appropriate skills,\n",
    "  - Team members cannot be assigned more horus than they have available,\n",
    "  - The python proficiency of a team member must meet or exceed the complexity of the project.\n",
    "\n",
    "Lets use `PuLP` to get the problem set up as a model."
   ]
  },
  {
   "cell_type": "code",
   "execution_count": 42,
   "metadata": {},
   "outputs": [],
   "source": [
    "problem = LpProblem(name=\"Project-Selection\", sense=LpMaximize)\n",
    "\n",
    "project_variables = LpVariable.dicts(\n",
    "    name=\"SelectProject\", indices=[p.name for p in projects], cat=\"Binary\"\n",
    ")\n",
    "\n",
    "team_project_variables = LpVariable.dicts(\n",
    "    name=\"Assign\",\n",
    "    indices=[(tm.name, p.name) for tm in team for p in projects],\n",
    "    cat=\"Binary\",\n",
    ")"
   ]
  },
  {
   "cell_type": "markdown",
   "metadata": {},
   "source": [
    "We've defined the decision variables now. They're `Binary` - `1` for if the project or team member is picked by the optimiser, or `0` if it isn't. We'll load them in to the \"problem\" next\n"
   ]
  },
  {
   "cell_type": "code",
   "execution_count": 43,
   "metadata": {},
   "outputs": [],
   "source": [
    "problem += (\n",
    "    lpSum([project_variables[p.name] * p.hours_saved_per_month for p in projects]),\n",
    "    \"Total Hours Saved\",\n",
    ")"
   ]
  },
  {
   "cell_type": "markdown",
   "metadata": {},
   "source": [
    "`project_variables[p.name] * p.hours_saved_per_month` looks a little odd, given the fact that we're seemingly circulating a name with hours saved - but let's take that operation on its own and it should become more apparant the way that `PuLP` works"
   ]
  },
  {
   "cell_type": "code",
   "execution_count": 44,
   "metadata": {},
   "outputs": [
    {
     "data": {
      "text/plain": [
       "4*SelectProject_ISS + 0"
      ]
     },
     "execution_count": 44,
     "metadata": {},
     "output_type": "execute_result"
    }
   ],
   "source": [
    "project_variables[\"ISS\"] * 4"
   ]
  },
  {
   "cell_type": "markdown",
   "metadata": {},
   "source": [
    "That output looks a bit like $4x + 0$, if we take SelectProject_ISS to be $x$. We're creating a structure that is parallel to a mathematical expression, just like the ones we were working with in the crash course...\n",
    "\n",
    "`problem` is now a good representation of our *objective function*:\n",
    "\n",
    "$$ Z = 20x_1 + 40x_2 + 5x_3 + 5x_4 + 10x_5 $$\n",
    "\n",
    "### Constraints\n",
    "\n",
    "Let's add the constraints, one by one.\n",
    "\n",
    "#### Contraint 1: Maximum of two projects running simultaneously\n",
    "\n",
    "Let's write in the constraint\n",
    "$$ x_1 + x_2 + x_3 + x_4 + x_5 \\leq 2 $$\n",
    "\n",
    "or otherwise:\n",
    "$$\\sum_ix_i \\leq 2$$"
   ]
  },
  {
   "cell_type": "code",
   "execution_count": 45,
   "metadata": {},
   "outputs": [],
   "source": [
    "# # Maximum of two projects running simultaneously\n",
    "# problem += (\n",
    "#     lpSum([project_variables[p.name] for p in projects]) <= 2,\n",
    "#     \"Max_Concurrent_Projects\",\n",
    "# )"
   ]
  },
  {
   "cell_type": "markdown",
   "metadata": {},
   "source": [
    "#### Constraint 2: Team members are only assigned if the project is selected\n",
    " `(tm.name, p.name)` is a tuple representing the combination of team member and project name. As these are `Binary`, if the team member is on a project, the value would be `1`, and if a project is selected in `project_variables[p.name]` that value would be `1` too.\n",
    "\n",
    " Effectively, if a porject isn't selected, then we constrain the system to not accept any combination of team member and that project (as`team_project_variables[(tm.name, p.name)] <= project_variables[p.name]` resolves to `1 <= 0 = False`) "
   ]
  },
  {
   "cell_type": "code",
   "execution_count": 46,
   "metadata": {},
   "outputs": [],
   "source": [
    "# Team members can only be assigned to selected projects\n",
    "for tm in team:\n",
    "    for p in projects:\n",
    "        problem += (\n",
    "            team_project_variables[(tm.name, p.name)] <= project_variables[p.name],\n",
    "            f\"Assign_{tm.name}_{p.name}_OnlyIfProjectSelected\",\n",
    "        )"
   ]
  },
  {
   "cell_type": "markdown",
   "metadata": {},
   "source": [
    "#### Constraint 3: Team members can only work on a project if they meet the skills and Python level\n",
    "We set the combination of team member and projet to not selected or `0` if there are project skills required that are not in the tea member's skillset, or if their level of python is below the minimum required for the project."
   ]
  },
  {
   "cell_type": "code",
   "execution_count": 47,
   "metadata": {},
   "outputs": [],
   "source": [
    "# Ensure team members meet skill and Python level requirements\n",
    "for p in projects:\n",
    "    for tm in team:\n",
    "        if (\n",
    "            not set(p.skills_required).issubset(set(tm.skills))\n",
    "            or tm.python_level < p.python_level_required\n",
    "        ):\n",
    "            problem += (\n",
    "                team_project_variables[(tm.name, p.name)] == 0,\n",
    "                f\"Skill_Python_Level_Match_{tm.name}_{p.name}\",\n",
    "            )"
   ]
  },
  {
   "cell_type": "markdown",
   "metadata": {},
   "source": [
    "#### Constraint 4: Team members are not assigned more projects than time they have available.\n",
    "\n",
    "`team_project_vars[(tm.name, p.name)] * p.hours_to_implement` represents the hours assigned to team member `tm` for project `p`. If `team_project_vars[(tm.name, p.name)]` is `0`, then the hours assigned for that project are `0`. If it is `1`, then the hours assigned are equal to the hours required to implement the project."
   ]
  },
  {
   "cell_type": "code",
   "execution_count": 48,
   "metadata": {},
   "outputs": [],
   "source": [
    "# Team member hours availability\n",
    "for tm in team:\n",
    "    total_hours_assigned = lpSum(\n",
    "        [team_project_variables[(tm.name, p.name)] * p.hours_to_implement for p in projects]\n",
    "    )\n",
    "    problem += total_hours_assigned <= tm.hours_available, f\"Hours_Available_{tm.name}\""
   ]
  },
  {
   "cell_type": "markdown",
   "metadata": {},
   "source": [
    "#### Constraint 5: Each project selected must have at least 1 person assigned\n",
    "`lpSum([team_project_vars[(tm.name, p.name)] for tm in team_members])` computes the total number of team members assigned to project `p`. `project_vars[p.name]` represents whether project `p` is selected (`1` or `0`).\n",
    "\n",
    "So if a project is selected `1` we need at least `1` or more team members assigned\n",
    "\n",
    "$$a_{tp} \\leq x_i$$\n"
   ]
  },
  {
   "cell_type": "code",
   "execution_count": 49,
   "metadata": {},
   "outputs": [],
   "source": [
    "# Each selected project must have at least one team member assigned\n",
    "for p in projects:\n",
    "    total_team_assigned = lpSum(\n",
    "        [team_project_variables[(tm.name, p.name)] for tm in team]\n",
    "    )\n",
    "    problem += total_team_assigned >= project_variables[p.name], f\"Team_Assignment_{p.name}\""
   ]
  },
  {
   "cell_type": "markdown",
   "metadata": {},
   "source": [
    "So we have:\n",
    "- Maximum of Two Projects: Ensures that only two projects can run concurrently.\n",
    "- Team Assignment Only if Project is Selected: A team member can only work on a project that has been selected.\n",
    "- Skill Matching and Python Level: Ensures team members have the required skills and Python proficiency level to work on a project.\n",
    "- Hours Availability: Ensures no team member is assigned more hours than they have available.\n",
    "- Each Project Must Have at Least One Team Member: Ensures that each selected project has at least one person working on it.\n",
    "\n",
    "### Solving the Optimisation Problem\n",
    "\n",
    "The setup was by far the most complex part of the setup. All we need to do now is prompt `PuLP` to solve the problem."
   ]
  },
  {
   "cell_type": "code",
   "execution_count": 50,
   "metadata": {},
   "outputs": [
    {
     "name": "stdout",
     "output_type": "stream",
     "text": [
      "Welcome to the CBC MILP Solver \n",
      "Version: 2.10.3 \n",
      "Build Date: Dec 15 2019 \n",
      "\n",
      "command line - /home/richardstrange/miniconda3/envs/optimiser/lib/python3.11/site-packages/pulp/solverdir/cbc/linux/64/cbc /tmp/eda9809153244ec28c5bde87bc5929e2-pulp.mps -max -timeMode elapsed -branch -printingOptions all -solution /tmp/eda9809153244ec28c5bde87bc5929e2-pulp.sol (default strategy 1)\n",
      "At line 2 NAME          MODEL\n",
      "At line 3 ROWS\n",
      "At line 58 COLUMNS\n",
      "At line 271 RHS\n",
      "At line 325 BOUNDS\n",
      "At line 361 ENDATA\n",
      "Problem MODEL has 53 rows, 35 columns and 137 elements\n",
      "Coin0008I MODEL read with 0 errors\n",
      "Option for timeMode changed from cpu to elapsed\n",
      "Continuous objective value is 80 - 0.00 seconds\n",
      "Cgl0002I 12 variables fixed\n",
      "Cgl0003I 0 fixed, 0 tightened bounds, 3 strengthened rows, 0 substitutions\n",
      "Cgl0003I 0 fixed, 0 tightened bounds, 1 strengthened rows, 0 substitutions\n",
      "Cgl0004I processed model has 23 rows, 19 columns (19 integer (19 of which binary)) and 66 elements\n",
      "Cutoff increment increased from 1e-05 to 4.9999\n",
      "Cbc0038I Initial state - 0 integers unsatisfied sum - 0\n",
      "Cbc0038I Solution found of -40\n",
      "Cbc0038I Before mini branch and bound, 19 integers at bound fixed and 0 continuous\n",
      "Cbc0038I Mini branch and bound did not improve solution (0.00 seconds)\n",
      "Cbc0038I After 0.00 seconds - Feasibility pump exiting with objective of -40 - took 0.00 seconds\n",
      "Cbc0012I Integer solution of -40 found by feasibility pump after 0 iterations and 0 nodes (0.00 seconds)\n",
      "Cbc0001I Search completed - best objective -40, took 0 iterations and 0 nodes (0.00 seconds)\n",
      "Cbc0035I Maximum depth 0, 0 variables fixed on reduced cost\n",
      "Cuts at root node changed objective from -40 to -40\n",
      "Probing was tried 0 times and created 0 cuts of which 0 were active after adding rounds of cuts (0.000 seconds)\n",
      "Gomory was tried 0 times and created 0 cuts of which 0 were active after adding rounds of cuts (0.000 seconds)\n",
      "Knapsack was tried 0 times and created 0 cuts of which 0 were active after adding rounds of cuts (0.000 seconds)\n",
      "Clique was tried 0 times and created 0 cuts of which 0 were active after adding rounds of cuts (0.000 seconds)\n",
      "MixedIntegerRounding2 was tried 0 times and created 0 cuts of which 0 were active after adding rounds of cuts (0.000 seconds)\n",
      "FlowCover was tried 0 times and created 0 cuts of which 0 were active after adding rounds of cuts (0.000 seconds)\n",
      "TwoMirCuts was tried 0 times and created 0 cuts of which 0 were active after adding rounds of cuts (0.000 seconds)\n",
      "ZeroHalf was tried 0 times and created 0 cuts of which 0 were active after adding rounds of cuts (0.000 seconds)\n",
      "\n",
      "Result - Optimal solution found\n",
      "\n",
      "Objective value:                40.00000000\n",
      "Enumerated nodes:               0\n",
      "Total iterations:               0\n",
      "Time (CPU seconds):             0.00\n",
      "Time (Wallclock seconds):       0.01\n",
      "\n",
      "Option for printingOptions changed from normal to all\n",
      "Total time (CPU seconds):       0.00   (Wallclock seconds):       0.01\n",
      "\n"
     ]
    },
    {
     "data": {
      "text/plain": [
       "1"
      ]
     },
     "execution_count": 50,
     "metadata": {},
     "output_type": "execute_result"
    }
   ],
   "source": [
    "problem.solve()"
   ]
  },
  {
   "cell_type": "code",
   "execution_count": 51,
   "metadata": {},
   "outputs": [
    {
     "name": "stdout",
     "output_type": "stream",
     "text": [
      "Status: Optimal\n"
     ]
    }
   ],
   "source": [
    "print(f\"Status: {LpStatus[problem.status]}\")"
   ]
  },
  {
   "cell_type": "markdown",
   "metadata": {},
   "source": [
    "Great! Our solver managed to provide an optimal solution!\n",
    "\n",
    "### Results interpretation\n",
    "Lets pull some details on the solution out:\n",
    "\n",
    "Firstly, the optimal projects selected, and the team members assigned to the projects"
   ]
  },
  {
   "cell_type": "code",
   "execution_count": 52,
   "metadata": {},
   "outputs": [
    {
     "name": "stdout",
     "output_type": "stream",
     "text": [
      "Selected Projects:\n",
      "['Secondary Deliverables reporting', 'ISS', 'Network Interventions lists', 'Pulse Report report generation']\n",
      "\n",
      "Team Assignments:\n",
      "Team Member: Dr Bunsen Honeydew is assigned to Project: Secondary Deliverables reporting\n",
      "Team Member: Pepe the King Prawn is assigned to Project: ISS\n",
      "Team Member: Pepe the King Prawn is assigned to Project: Network Interventions lists\n",
      "Team Member: Rowlf the Dog is assigned to Project: Pulse Report report generation\n"
     ]
    }
   ],
   "source": [
    "# Extract selected projects\n",
    "selected_projects = []\n",
    "for p in projects:\n",
    "    if project_variables[p.name].varValue == 1:\n",
    "        selected_projects.append(p.name)\n",
    "\n",
    "print(\"Selected Projects:\")\n",
    "print(selected_projects)\n",
    "\n",
    "# Extract team assignments\n",
    "team_assignments = []\n",
    "for tm in team:\n",
    "    for p in projects:\n",
    "        if team_project_variables[(tm.name, p.name)].varValue == 1:\n",
    "            team_assignments.append((tm.name, p.name))\n",
    "\n",
    "print(\"\\nTeam Assignments:\")\n",
    "for assignment in team_assignments:\n",
    "    print(f\"Team Member: {assignment[0]} is assigned to Project: {assignment[1]}\")"
   ]
  },
  {
   "cell_type": "markdown",
   "metadata": {},
   "source": [
    "And the total time saved"
   ]
  },
  {
   "cell_type": "code",
   "execution_count": 53,
   "metadata": {},
   "outputs": [
    {
     "name": "stdout",
     "output_type": "stream",
     "text": [
      "\n",
      "Total Hours Saved Per Month: 40\n"
     ]
    }
   ],
   "source": [
    "# Calculate total hours saved per month\n",
    "total_hours_saved = sum(\n",
    "    [p.hours_saved_per_month for p in projects if project_variables[p.name].varValue == 1]\n",
    ")\n",
    "\n",
    "print(f\"\\nTotal Hours Saved Per Month: {total_hours_saved}\")"
   ]
  },
  {
   "cell_type": "code",
   "execution_count": 54,
   "metadata": {},
   "outputs": [
    {
     "name": "stdout",
     "output_type": "stream",
     "text": [
      "\n",
      "Summary of Optimization Results:\n",
      "================================\n",
      "Status: Optimal\n",
      "\n",
      "Selected Projects:\n",
      "  - Secondary Deliverables reporting\n",
      "  - ISS\n",
      "  - Network Interventions lists\n",
      "  - Pulse Report report generation\n",
      "\n",
      "Team Assignments:\n",
      "  - Team Member: Dr Bunsen Honeydew is assigned to Project: Secondary Deliverables reporting\n",
      "  - Team Member: Pepe the King Prawn is assigned to Project: ISS\n",
      "  - Team Member: Pepe the King Prawn is assigned to Project: Network Interventions lists\n",
      "  - Team Member: Rowlf the Dog is assigned to Project: Pulse Report report generation\n",
      "\n",
      "Total Hours Saved Per Month: 40\n"
     ]
    }
   ],
   "source": [
    "# Display a summary of results\n",
    "print(\"\\nSummary of Optimization Results:\")\n",
    "print(\"================================\")\n",
    "print(f\"Status: {LpStatus[problem.status]}\")\n",
    "print(\"\\nSelected Projects:\")\n",
    "for project_name in selected_projects:\n",
    "    print(f\"  - {project_name}\")\n",
    "print(\"\\nTeam Assignments:\")\n",
    "for assignment in team_assignments:\n",
    "    print(f\"  - Team Member: {assignment[0]} is assigned to Project: {assignment[1]}\")\n",
    "print(f\"\\nTotal Hours Saved Per Month: {total_hours_saved}\")"
   ]
  },
  {
   "cell_type": "code",
   "execution_count": null,
   "metadata": {},
   "outputs": [],
   "source": []
  }
 ],
 "metadata": {
  "kernelspec": {
   "display_name": "optimiser",
   "language": "python",
   "name": "python3"
  },
  "language_info": {
   "codemirror_mode": {
    "name": "ipython",
    "version": 3
   },
   "file_extension": ".py",
   "mimetype": "text/x-python",
   "name": "python",
   "nbconvert_exporter": "python",
   "pygments_lexer": "ipython3",
   "version": "3.11.10"
  }
 },
 "nbformat": 4,
 "nbformat_minor": 2
}
